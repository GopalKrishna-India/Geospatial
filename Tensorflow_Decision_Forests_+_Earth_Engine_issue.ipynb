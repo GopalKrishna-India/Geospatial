{
  "nbformat": 4,
  "nbformat_minor": 0,
  "metadata": {
    "colab": {
      "name": "Tensorflow Decision Forests + Earth Engine issue.ipynb",
      "provenance": [],
      "collapsed_sections": [],
      "include_colab_link": true
    },
    "kernelspec": {
      "name": "python3",
      "display_name": "Python 3"
    },
    "language_info": {
      "name": "python"
    }
  },
  "cells": [
    {
      "cell_type": "markdown",
      "metadata": {
        "id": "view-in-github",
        "colab_type": "text"
      },
      "source": [
        "<a href=\"https://colab.research.google.com/github/GopalKrishna-India/Geospatial/blob/Child_Branch/Tensorflow_Decision_Forests_%2B_Earth_Engine_issue.ipynb\" target=\"_parent\"><img src=\"https://colab.research.google.com/assets/colab-badge.svg\" alt=\"Open In Colab\"/></a>"
      ]
    },
    {
      "cell_type": "code",
      "execution_count": null,
      "metadata": {
        "colab": {
          "base_uri": "https://localhost:8080/"
        },
        "id": "h2tFxvK67au4",
        "outputId": "87018a44-8977-4c90-8968-d8b1e80956b5"
      },
      "outputs": [
        {
          "output_type": "stream",
          "name": "stdout",
          "text": [
            "Looking in indexes: https://pypi.org/simple, https://us-python.pkg.dev/colab-wheels/public/simple/\n",
            "Requirement already satisfied: tensorflow-decision-forests==0.2.4 in /usr/local/lib/python3.7/dist-packages (0.2.4)\n",
            "Requirement already satisfied: pandas in /usr/local/lib/python3.7/dist-packages (from tensorflow-decision-forests==0.2.4) (1.3.5)\n",
            "Requirement already satisfied: tensorflow~=2.8.0 in /usr/local/lib/python3.7/dist-packages (from tensorflow-decision-forests==0.2.4) (2.8.2+zzzcolab20220719082949)\n",
            "Requirement already satisfied: absl-py in /usr/local/lib/python3.7/dist-packages (from tensorflow-decision-forests==0.2.4) (1.2.0)\n",
            "Requirement already satisfied: six in /usr/local/lib/python3.7/dist-packages (from tensorflow-decision-forests==0.2.4) (1.15.0)\n",
            "Requirement already satisfied: wurlitzer in /usr/local/lib/python3.7/dist-packages (from tensorflow-decision-forests==0.2.4) (3.0.2)\n",
            "Requirement already satisfied: wheel in /usr/local/lib/python3.7/dist-packages (from tensorflow-decision-forests==0.2.4) (0.37.1)\n",
            "Requirement already satisfied: numpy in /usr/local/lib/python3.7/dist-packages (from tensorflow-decision-forests==0.2.4) (1.21.6)\n",
            "Requirement already satisfied: keras-preprocessing>=1.1.1 in /usr/local/lib/python3.7/dist-packages (from tensorflow~=2.8.0->tensorflow-decision-forests==0.2.4) (1.1.2)\n",
            "Requirement already satisfied: tensorboard<2.9,>=2.8 in /usr/local/lib/python3.7/dist-packages (from tensorflow~=2.8.0->tensorflow-decision-forests==0.2.4) (2.8.0)\n",
            "Requirement already satisfied: h5py>=2.9.0 in /usr/local/lib/python3.7/dist-packages (from tensorflow~=2.8.0->tensorflow-decision-forests==0.2.4) (3.1.0)\n",
            "Requirement already satisfied: setuptools in /usr/local/lib/python3.7/dist-packages (from tensorflow~=2.8.0->tensorflow-decision-forests==0.2.4) (57.4.0)\n",
            "Requirement already satisfied: wrapt>=1.11.0 in /usr/local/lib/python3.7/dist-packages (from tensorflow~=2.8.0->tensorflow-decision-forests==0.2.4) (1.14.1)\n",
            "Requirement already satisfied: google-pasta>=0.1.1 in /usr/local/lib/python3.7/dist-packages (from tensorflow~=2.8.0->tensorflow-decision-forests==0.2.4) (0.2.0)\n",
            "Requirement already satisfied: astunparse>=1.6.0 in /usr/local/lib/python3.7/dist-packages (from tensorflow~=2.8.0->tensorflow-decision-forests==0.2.4) (1.6.3)\n",
            "Requirement already satisfied: gast>=0.2.1 in /usr/local/lib/python3.7/dist-packages (from tensorflow~=2.8.0->tensorflow-decision-forests==0.2.4) (0.4.0)\n",
            "Requirement already satisfied: typing-extensions>=3.6.6 in /usr/local/lib/python3.7/dist-packages (from tensorflow~=2.8.0->tensorflow-decision-forests==0.2.4) (4.1.1)\n",
            "Requirement already satisfied: libclang>=9.0.1 in /usr/local/lib/python3.7/dist-packages (from tensorflow~=2.8.0->tensorflow-decision-forests==0.2.4) (14.0.1)\n",
            "Requirement already satisfied: tensorflow-estimator<2.9,>=2.8 in /usr/local/lib/python3.7/dist-packages (from tensorflow~=2.8.0->tensorflow-decision-forests==0.2.4) (2.8.0)\n",
            "Requirement already satisfied: grpcio<2.0,>=1.24.3 in /usr/local/lib/python3.7/dist-packages (from tensorflow~=2.8.0->tensorflow-decision-forests==0.2.4) (1.47.0)\n",
            "Requirement already satisfied: flatbuffers>=1.12 in /usr/local/lib/python3.7/dist-packages (from tensorflow~=2.8.0->tensorflow-decision-forests==0.2.4) (1.12)\n",
            "Requirement already satisfied: tensorflow-io-gcs-filesystem>=0.23.1 in /usr/local/lib/python3.7/dist-packages (from tensorflow~=2.8.0->tensorflow-decision-forests==0.2.4) (0.26.0)\n",
            "Requirement already satisfied: keras<2.9,>=2.8.0rc0 in /usr/local/lib/python3.7/dist-packages (from tensorflow~=2.8.0->tensorflow-decision-forests==0.2.4) (2.8.0)\n",
            "Requirement already satisfied: opt-einsum>=2.3.2 in /usr/local/lib/python3.7/dist-packages (from tensorflow~=2.8.0->tensorflow-decision-forests==0.2.4) (3.3.0)\n",
            "Requirement already satisfied: termcolor>=1.1.0 in /usr/local/lib/python3.7/dist-packages (from tensorflow~=2.8.0->tensorflow-decision-forests==0.2.4) (1.1.0)\n",
            "Requirement already satisfied: protobuf<3.20,>=3.9.2 in /usr/local/lib/python3.7/dist-packages (from tensorflow~=2.8.0->tensorflow-decision-forests==0.2.4) (3.17.3)\n",
            "Requirement already satisfied: cached-property in /usr/local/lib/python3.7/dist-packages (from h5py>=2.9.0->tensorflow~=2.8.0->tensorflow-decision-forests==0.2.4) (1.5.2)\n",
            "Requirement already satisfied: markdown>=2.6.8 in /usr/local/lib/python3.7/dist-packages (from tensorboard<2.9,>=2.8->tensorflow~=2.8.0->tensorflow-decision-forests==0.2.4) (3.4.1)\n",
            "Requirement already satisfied: tensorboard-plugin-wit>=1.6.0 in /usr/local/lib/python3.7/dist-packages (from tensorboard<2.9,>=2.8->tensorflow~=2.8.0->tensorflow-decision-forests==0.2.4) (1.8.1)\n",
            "Requirement already satisfied: requests<3,>=2.21.0 in /usr/local/lib/python3.7/dist-packages (from tensorboard<2.9,>=2.8->tensorflow~=2.8.0->tensorflow-decision-forests==0.2.4) (2.23.0)\n",
            "Requirement already satisfied: google-auth-oauthlib<0.5,>=0.4.1 in /usr/local/lib/python3.7/dist-packages (from tensorboard<2.9,>=2.8->tensorflow~=2.8.0->tensorflow-decision-forests==0.2.4) (0.4.6)\n",
            "Requirement already satisfied: tensorboard-data-server<0.7.0,>=0.6.0 in /usr/local/lib/python3.7/dist-packages (from tensorboard<2.9,>=2.8->tensorflow~=2.8.0->tensorflow-decision-forests==0.2.4) (0.6.1)\n",
            "Requirement already satisfied: werkzeug>=0.11.15 in /usr/local/lib/python3.7/dist-packages (from tensorboard<2.9,>=2.8->tensorflow~=2.8.0->tensorflow-decision-forests==0.2.4) (1.0.1)\n",
            "Requirement already satisfied: google-auth<3,>=1.6.3 in /usr/local/lib/python3.7/dist-packages (from tensorboard<2.9,>=2.8->tensorflow~=2.8.0->tensorflow-decision-forests==0.2.4) (1.35.0)\n",
            "Requirement already satisfied: pyasn1-modules>=0.2.1 in /usr/local/lib/python3.7/dist-packages (from google-auth<3,>=1.6.3->tensorboard<2.9,>=2.8->tensorflow~=2.8.0->tensorflow-decision-forests==0.2.4) (0.2.8)\n",
            "Requirement already satisfied: cachetools<5.0,>=2.0.0 in /usr/local/lib/python3.7/dist-packages (from google-auth<3,>=1.6.3->tensorboard<2.9,>=2.8->tensorflow~=2.8.0->tensorflow-decision-forests==0.2.4) (4.2.4)\n",
            "Requirement already satisfied: rsa<5,>=3.1.4 in /usr/local/lib/python3.7/dist-packages (from google-auth<3,>=1.6.3->tensorboard<2.9,>=2.8->tensorflow~=2.8.0->tensorflow-decision-forests==0.2.4) (4.9)\n",
            "Requirement already satisfied: requests-oauthlib>=0.7.0 in /usr/local/lib/python3.7/dist-packages (from google-auth-oauthlib<0.5,>=0.4.1->tensorboard<2.9,>=2.8->tensorflow~=2.8.0->tensorflow-decision-forests==0.2.4) (1.3.1)\n",
            "Requirement already satisfied: importlib-metadata>=4.4 in /usr/local/lib/python3.7/dist-packages (from markdown>=2.6.8->tensorboard<2.9,>=2.8->tensorflow~=2.8.0->tensorflow-decision-forests==0.2.4) (4.12.0)\n",
            "Requirement already satisfied: zipp>=0.5 in /usr/local/lib/python3.7/dist-packages (from importlib-metadata>=4.4->markdown>=2.6.8->tensorboard<2.9,>=2.8->tensorflow~=2.8.0->tensorflow-decision-forests==0.2.4) (3.8.1)\n",
            "Requirement already satisfied: pyasn1<0.5.0,>=0.4.6 in /usr/local/lib/python3.7/dist-packages (from pyasn1-modules>=0.2.1->google-auth<3,>=1.6.3->tensorboard<2.9,>=2.8->tensorflow~=2.8.0->tensorflow-decision-forests==0.2.4) (0.4.8)\n",
            "Requirement already satisfied: urllib3!=1.25.0,!=1.25.1,<1.26,>=1.21.1 in /usr/local/lib/python3.7/dist-packages (from requests<3,>=2.21.0->tensorboard<2.9,>=2.8->tensorflow~=2.8.0->tensorflow-decision-forests==0.2.4) (1.24.3)\n",
            "Requirement already satisfied: idna<3,>=2.5 in /usr/local/lib/python3.7/dist-packages (from requests<3,>=2.21.0->tensorboard<2.9,>=2.8->tensorflow~=2.8.0->tensorflow-decision-forests==0.2.4) (2.10)\n",
            "Requirement already satisfied: chardet<4,>=3.0.2 in /usr/local/lib/python3.7/dist-packages (from requests<3,>=2.21.0->tensorboard<2.9,>=2.8->tensorflow~=2.8.0->tensorflow-decision-forests==0.2.4) (3.0.4)\n",
            "Requirement already satisfied: certifi>=2017.4.17 in /usr/local/lib/python3.7/dist-packages (from requests<3,>=2.21.0->tensorboard<2.9,>=2.8->tensorflow~=2.8.0->tensorflow-decision-forests==0.2.4) (2022.6.15)\n",
            "Requirement already satisfied: oauthlib>=3.0.0 in /usr/local/lib/python3.7/dist-packages (from requests-oauthlib>=0.7.0->google-auth-oauthlib<0.5,>=0.4.1->tensorboard<2.9,>=2.8->tensorflow~=2.8.0->tensorflow-decision-forests==0.2.4) (3.2.0)\n",
            "Requirement already satisfied: pytz>=2017.3 in /usr/local/lib/python3.7/dist-packages (from pandas->tensorflow-decision-forests==0.2.4) (2022.1)\n",
            "Requirement already satisfied: python-dateutil>=2.7.3 in /usr/local/lib/python3.7/dist-packages (from pandas->tensorflow-decision-forests==0.2.4) (2.8.2)\n"
          ]
        }
      ],
      "source": [
        "pip install tensorflow-decision-forests==0.2.4 \n"
      ]
    },
    {
      "cell_type": "code",
      "source": [
        "import tensorflow_decision_forests as tfdf\n",
        "import tensorflow as tf\n",
        "import pandas as pd"
      ],
      "metadata": {
        "id": "JlRMGU5p74p4"
      },
      "execution_count": null,
      "outputs": []
    },
    {
      "cell_type": "markdown",
      "source": [
        "## Model setup\n",
        "We will prepare a toy example of a decision forests model that predicts ndvi from sentinel 2 data  "
      ],
      "metadata": {
        "id": "I0_WxiDe75lQ"
      }
    },
    {
      "cell_type": "code",
      "source": [
        "# create the random forest\n",
        "rf=tfdf.keras.RandomForestModel(\n",
        "    verbose=1,\n",
        "    hyperparameter_template='better_default',\n",
        "    task=tfdf.keras.Task.REGRESSION,\n",
        "    num_trees=10,\n",
        "    compute_oob_variable_importances=True,\n",
        "    name=f\"random_forest_layer\"\n",
        "    )\n",
        "  \n",
        "rf.compile(metrics=[tf.keras.metrics.RootMeanSquaredError()])\n"
      ],
      "metadata": {
        "colab": {
          "base_uri": "https://localhost:8080/"
        },
        "id": "zeeeaZLRaPfI",
        "outputId": "1040fbf5-4a61-4f2a-f191-c5585a83a26b"
      },
      "execution_count": null,
      "outputs": [
        {
          "output_type": "stream",
          "name": "stdout",
          "text": [
            "Resolve hyper-parameter template \"better_default\" to \"better_default@v1\" -> {'winner_take_all': True}.\n",
            "Use /tmp/tmpgszw3otv as temporary training directory\n"
          ]
        }
      ]
    },
    {
      "cell_type": "code",
      "source": [
        "# train on some made up data\n",
        "mock_data = pd.DataFrame(\n",
        "    {\"ndvi\": [0.045926817, 0.36869645, 0.32059526, -0.049917717, 0.161236],\n",
        "     \"B8\": [6946, 3793, 3594, 1299, 3448],\n",
        "     \"B4\": [6336, 1749.5, 1849, 1435.5, 2490.5]\n",
        "     }\n",
        ")\n",
        "\n",
        "mock_data = tfdf.keras.pd_dataframe_to_tf_dataset(mock_data, label=\"ndvi\", task=tfdf.keras.Task.REGRESSION)\n",
        "rf.fit(mock_data)"
      ],
      "metadata": {
        "colab": {
          "base_uri": "https://localhost:8080/"
        },
        "id": "pJ41CzQsbl5P",
        "outputId": "0dbef38a-8b46-479a-db9b-7f3624069ef2"
      },
      "execution_count": null,
      "outputs": [
        {
          "output_type": "stream",
          "name": "stdout",
          "text": [
            "Starting reading the dataset\n",
            "WARNING:tensorflow:6 out of the last 6 calls to <function Model.make_train_function.<locals>.train_function at 0x7effe6c3f0e0> triggered tf.function retracing. Tracing is expensive and the excessive number of tracings could be due to (1) creating @tf.function repeatedly in a loop, (2) passing tensors with different shapes, (3) passing Python objects instead of tensors. For (1), please define your @tf.function outside of the loop. For (2), @tf.function has experimental_relax_shapes=True option that relaxes argument shapes that can avoid unnecessary retracing. For (3), please refer to https://www.tensorflow.org/guide/function#controlling_retracing and https://www.tensorflow.org/api_docs/python/tf/function for  more details.\n"
          ]
        },
        {
          "output_type": "stream",
          "name": "stderr",
          "text": [
            "/usr/local/lib/python3.7/dist-packages/tensorflow_decision_forests/keras/core.py:2036: FutureWarning: In a future version of pandas all arguments of DataFrame.drop except for the argument 'labels' will be keyword-only\n",
            "  features_dataframe = dataframe.drop(label, 1)\n",
            "WARNING:tensorflow:6 out of the last 6 calls to <function Model.make_train_function.<locals>.train_function at 0x7effe6c3f0e0> triggered tf.function retracing. Tracing is expensive and the excessive number of tracings could be due to (1) creating @tf.function repeatedly in a loop, (2) passing tensors with different shapes, (3) passing Python objects instead of tensors. For (1), please define your @tf.function outside of the loop. For (2), @tf.function has experimental_relax_shapes=True option that relaxes argument shapes that can avoid unnecessary retracing. For (3), please refer to https://www.tensorflow.org/guide/function#controlling_retracing and https://www.tensorflow.org/api_docs/python/tf/function for  more details.\n"
          ]
        },
        {
          "output_type": "stream",
          "name": "stdout",
          "text": [
            "1/1 [==============================] - ETA: 0s\n",
            "Dataset read in 0:00:00.087753\n",
            "Training model\n",
            "Model trained in 0:00:00.011161\n",
            "Compiling model\n",
            "1/1 [==============================] - 0s 108ms/step\n"
          ]
        },
        {
          "output_type": "execute_result",
          "data": {
            "text/plain": [
              "<keras.callbacks.History at 0x7effe4cb3f50>"
            ]
          },
          "metadata": {},
          "execution_count": 58
        }
      ]
    },
    {
      "cell_type": "code",
      "source": [
        "# Guess at the sort of data sent over to AI platform by EE\n",
        "best_guess_ee_input = {\n",
        "    'B8': tf.constant([[1,2,3,4],\n",
        "                       [1.1,2.1,3.1,4.1],\n",
        "                       [1.2,2.3,2.4,2.5],\n",
        "                       [3.1,3.15,3.2,3.4]]),\n",
        "    'B4': tf.constant([[10,20,30,40],\n",
        "                       [11,21,31,41],\n",
        "                       [21,31,41,51],\n",
        "                       [31,32,33,34]])                     \n",
        "}\n",
        "\n",
        "\n",
        "\n",
        "best_guess_ee_input = {k: tf.reshape(v, [4,4,1]) for (k,v) in best_guess_ee_input.items()}\n",
        "# @Nick: first thing I'm assuming is that the serialized TensorProtos will be \n",
        "# sent over in the format [x,y,bands], so in the case above it would be a 4x4 \n",
        "# pixel patch, with a 3rd dimension of rank 1 as the values are keyed by band\n",
        "\n",
        "\n",
        "#Decision forest models cannot natively consume data in this format - they \n",
        "# expect a dataframe-like array, where rows are instances and columns are \n",
        "# features. uncomment the below line to see the error\n",
        "\n",
        "# rf.predict(best_guess_ee_input)\n"
      ],
      "metadata": {
        "id": "S6WbA_8jfYFd"
      },
      "execution_count": null,
      "outputs": []
    },
    {
      "cell_type": "code",
      "source": [
        "# in order to feed the data to the random forest, we need to do some reshaping to a new \n",
        "# shape of (None, 1) like so, then we get the expected 16 predictions: \n",
        "best_guess_ee_input_reshaped = {k: tf.reshape(v, [-1,1]) for (k,v) in best_guess_ee_input.items()}\n",
        "rf.predict(best_guess_ee_input_reshaped)\n"
      ],
      "metadata": {
        "colab": {
          "base_uri": "https://localhost:8080/"
        },
        "id": "ZmtiLrLQpnCh",
        "outputId": "7598e35d-194e-4bfc-8328-e0f6087815f1"
      },
      "execution_count": null,
      "outputs": [
        {
          "output_type": "execute_result",
          "data": {
            "text/plain": [
              "array([[0.],\n",
              "       [0.],\n",
              "       [0.],\n",
              "       [0.],\n",
              "       [0.],\n",
              "       [0.],\n",
              "       [0.],\n",
              "       [0.],\n",
              "       [0.],\n",
              "       [0.],\n",
              "       [0.],\n",
              "       [0.],\n",
              "       [0.],\n",
              "       [0.],\n",
              "       [0.],\n",
              "       [0.]], dtype=float32)"
            ]
          },
          "metadata": {},
          "execution_count": 60
        }
      ]
    },
    {
      "cell_type": "markdown",
      "source": [
        "## Extending the model to the assumed inputs from EE\n",
        "\n",
        "We therefore need to extend the new model to make it incorporate the reshaping steps as part of the model. It assumes that Earth Engine wants the responses back in the same shape that were sent over. "
      ],
      "metadata": {
        "id": "bBmQOQStr-MY"
      }
    },
    {
      "cell_type": "code",
      "source": [
        "# create a custom keras layer to do the reshaping of the input data\n",
        "class ReshapeInputEE(tf.keras.layers.Layer):\n",
        "  def __init__(self, **kwargs):\n",
        "    super().__init__(**kwargs)\n",
        "\n",
        "  def call(self, tensor_dict):\n",
        "    return_dict = {}\n",
        "    for (k,v) in tensor_dict.items():\n",
        "      return_dict[k] = tf.reshape(v, [-1,1])\n",
        "    return return_dict\n",
        "  \n",
        "  def get_config(self):\n",
        "    config = super().get_config()\n",
        "    return config\n",
        "\n",
        "\n",
        "# this layer reshapes the model predictions to what I assume EE requires \n",
        "# (same shape as data sent over)\n",
        "class ReshapeOutputEE(tf.keras.layers.Layer):\n",
        "  def __init__(self, **kwargs):\n",
        "    super().__init__(**kwargs)\n",
        "\n",
        "  def call(self, inputs):\n",
        "    input_dict, model_predictions = inputs[0], inputs[1]\n",
        "    # as well as the predictions, this layer needs to know the shape of the original input data\n",
        "    shape = tf.shape(input_dict['B8'])\n",
        "    return tf.reshape(model_predictions, shape)\n",
        "  \n",
        "  def get_config(self):\n",
        "    config = super().get_config()\n",
        "    return config\n",
        "\n",
        "\n",
        "input_reshaper = ReshapeInputEE(name=\"input_reshaper\")\n",
        "\n",
        "output_reshaper = ReshapeOutputEE(name=\"output_reshaper\")\n",
        "\n",
        "# create the new inputs\n",
        "inputs = {\n",
        "    'B8': tf.keras.Input(shape=(None, 1), name=\"B8_input\"),\n",
        "    'B4': tf.keras.Input(shape=(None, 1), name=\"B4_input\")\n",
        "}\n",
        "\n",
        "# create the model\n",
        "\n",
        "new_model = input_reshaper(inputs)\n",
        "new_model = rf(new_model)\n",
        "new_model = output_reshaper([inputs, new_model])\n",
        "\n",
        "new_model = tf.keras.Model(inputs, new_model, name=\"random_forest_with_reshaping\")"
      ],
      "metadata": {
        "id": "8H5f1QBZrj-q"
      },
      "execution_count": null,
      "outputs": []
    },
    {
      "cell_type": "code",
      "source": [
        "# plot the model to show the new architecture\n",
        "tf.keras.utils.plot_model(new_model)"
      ],
      "metadata": {
        "colab": {
          "base_uri": "https://localhost:8080/",
          "height": 369
        },
        "id": "STL4cEYNy_1M",
        "outputId": "d35fa537-b841-4688-c118-52d0671bc7da"
      },
      "execution_count": null,
      "outputs": [
        {
          "output_type": "execute_result",
          "data": {
            "text/plain": [
              "<IPython.core.display.Image object>"
            ],
            "image/png": "[encoded data removed]"
          },
          "metadata": {},
          "execution_count": 62
        }
      ]
    },
    {
      "cell_type": "code",
      "source": [
        "# now it will work with input data in the format [None, None, 1] i.e. [x,y,bands]\n",
        "new_model.predict(best_guess_ee_input)"
      ],
      "metadata": {
        "colab": {
          "base_uri": "https://localhost:8080/"
        },
        "id": "fxwZ8tefzP59",
        "outputId": "dcd026a4-f6e5-481e-d19a-7a01edf8209c"
      },
      "execution_count": null,
      "outputs": [
        {
          "output_type": "stream",
          "name": "stdout",
          "text": [
            "WARNING:tensorflow:5 out of the last 5 calls to <function Model.make_predict_function.<locals>.predict_function at 0x7effe6bcdf80> triggered tf.function retracing. Tracing is expensive and the excessive number of tracings could be due to (1) creating @tf.function repeatedly in a loop, (2) passing tensors with different shapes, (3) passing Python objects instead of tensors. For (1), please define your @tf.function outside of the loop. For (2), @tf.function has experimental_relax_shapes=True option that relaxes argument shapes that can avoid unnecessary retracing. For (3), please refer to https://www.tensorflow.org/guide/function#controlling_retracing and https://www.tensorflow.org/api_docs/python/tf/function for  more details.\n"
          ]
        },
        {
          "output_type": "stream",
          "name": "stderr",
          "text": [
            "WARNING:tensorflow:5 out of the last 5 calls to <function Model.make_predict_function.<locals>.predict_function at 0x7effe6bcdf80> triggered tf.function retracing. Tracing is expensive and the excessive number of tracings could be due to (1) creating @tf.function repeatedly in a loop, (2) passing tensors with different shapes, (3) passing Python objects instead of tensors. For (1), please define your @tf.function outside of the loop. For (2), @tf.function has experimental_relax_shapes=True option that relaxes argument shapes that can avoid unnecessary retracing. For (3), please refer to https://www.tensorflow.org/guide/function#controlling_retracing and https://www.tensorflow.org/api_docs/python/tf/function for  more details.\n"
          ]
        },
        {
          "output_type": "execute_result",
          "data": {
            "text/plain": [
              "array([[[0.],\n",
              "        [0.],\n",
              "        [0.],\n",
              "        [0.]],\n",
              "\n",
              "       [[0.],\n",
              "        [0.],\n",
              "        [0.],\n",
              "        [0.]],\n",
              "\n",
              "       [[0.],\n",
              "        [0.],\n",
              "        [0.],\n",
              "        [0.]],\n",
              "\n",
              "       [[0.],\n",
              "        [0.],\n",
              "        [0.],\n",
              "        [0.]]], dtype=float32)"
            ]
          },
          "metadata": {},
          "execution_count": 63
        }
      ]
    },
    {
      "cell_type": "markdown",
      "source": [
        "## Implementation of 'EEification' (`earthengine model prepare` command)\n",
        "\n",
        "The `earthengine model prepare` does not work with Tensorflow decision forests (TFDF), due to some assumed incompatibility between the TFDF library and TF1 (TFDF is only compatible with TF2, whereas the python `earthengine` package uses TF1). I've attempted to reimplement it using TF2 layers."
      ],
      "metadata": {
        "id": "WJkERoXB4XwJ"
      }
    },
    {
      "cell_type": "code",
      "source": [
        "class DeserlializeInputEE(tf.keras.layers.Layer):\n",
        "  # It appears that the decoding from base64 is done by the Tensorflow serving \n",
        "  # container, so just need to deseralize the tensorprotos\n",
        "  def __init__(self, **kwargs):\n",
        "    super().__init__(**kwargs)\n",
        "\n",
        "  def call(self, tensor_dict):\n",
        "    return_dict = {}\n",
        "    for (k,v) in tensor_dict.items():\n",
        "      return_dict[k] = tf.reshape(tf.io.decode_raw(v, tf.float32), [-1,1])\n",
        "    return return_dict\n",
        "  \n",
        "  def get_config(self):\n",
        "    config = super().get_config()\n",
        "    return config\n",
        "\n",
        "class ReserlializeInputEE(tf.keras.layers.Layer):\n",
        "  #...however the container does not base64 encode the responses so we need to \n",
        "  # do it here\n",
        "  def __init__(self, **kwargs):\n",
        "    super().__init__(**kwargs)\n",
        "\n",
        "  def call(self, tensor_input):\n",
        "    return tf.reshape(tf.io.encode_base64(tf.io.serialize_tensor(tensor_input)), [1])\n",
        "  \n",
        "  def get_config(self):\n",
        "    config = super().get_config()\n",
        "    return config\n",
        "\n",
        "input_deserializer = DeserlializeInputEE()\n",
        "\n",
        "output_deserilaizer = ReserlializeInputEE()\n",
        "\n",
        "# the new inputs will be of type string as they are serialized\n",
        "serlialized_inputs = {\n",
        "    'B8': tf.keras.Input(shape=(None,), dtype='string', name=\"B8\"),\n",
        "    'B4': tf.keras.Input(shape=(None,), dtype='string', name=\"B4\")\n",
        "}\n",
        "\n",
        "\n",
        "updated_model_input = input_deserializer(serlialized_inputs)\n",
        "updated_model = new_model(updated_model_input)\n",
        "updated_model = output_deserilaizer(updated_model)\n",
        "\n",
        "updated_model= tf.keras.Model(serlialized_inputs, updated_model)\n",
        "\n"
      ],
      "metadata": {
        "id": "g9yTUgWX4NWu"
      },
      "execution_count": null,
      "outputs": []
    },
    {
      "cell_type": "code",
      "source": [
        "# uncomment to download the model\n",
        "# updated_model.save(\"updated_model\")\n",
        "# !zip -r /content/updated_model.zip /content/updated_model\n",
        "# from google.colab import files\n",
        "# files.download(\"/content/updated_model.zip\")"
      ],
      "metadata": {
        "colab": {
          "base_uri": "https://localhost:8080/",
          "height": 329
        },
        "id": "v3GvfcV3_R24",
        "outputId": "b4735294-6863-4fa8-c98d-860561a94f5f"
      },
      "execution_count": null,
      "outputs": [
        {
          "output_type": "stream",
          "name": "stdout",
          "text": [
            "WARNING:tensorflow:Compiled the loaded model, but the compiled metrics have yet to be built. `model.compile_metrics` will be empty until you train or evaluate the model.\n"
          ]
        },
        {
          "output_type": "stream",
          "name": "stderr",
          "text": [
            "WARNING:tensorflow:Compiled the loaded model, but the compiled metrics have yet to be built. `model.compile_metrics` will be empty until you train or evaluate the model.\n",
            "WARNING:absl:Function `_wrapped_model` contains input name(s) B4, B8 with unsupported characters which will be renamed to b4, b8 in the SavedModel.\n",
            "WARNING:absl:Found untraced functions such as call_get_leaves while saving (showing 1 of 1). These functions will not be directly callable after loading.\n"
          ]
        },
        {
          "output_type": "stream",
          "name": "stdout",
          "text": [
            "INFO:tensorflow:Assets written to: updated_model/assets\n"
          ]
        },
        {
          "output_type": "stream",
          "name": "stderr",
          "text": [
            "INFO:tensorflow:Assets written to: updated_model/assets\n"
          ]
        },
        {
          "output_type": "stream",
          "name": "stdout",
          "text": [
            "updating: content/updated_model/ (stored 0%)\n",
            "updating: content/updated_model/assets/ (stored 0%)\n",
            "updating: content/updated_model/assets/header.pb (deflated 28%)\n",
            "updating: content/updated_model/assets/data_spec.pb (deflated 18%)\n",
            "updating: content/updated_model/assets/random_forest_header.pb (deflated 34%)\n",
            "updating: content/updated_model/assets/nodes-00000-of-00001 (deflated 59%)\n",
            "updating: content/updated_model/assets/done (stored 0%)\n",
            "updating: content/updated_model/saved_model.pb (deflated 91%)\n",
            "updating: content/updated_model/variables/ (stored 0%)\n",
            "updating: content/updated_model/variables/variables.data-00000-of-00001 (deflated 75%)\n",
            "updating: content/updated_model/variables/variables.index (deflated 25%)\n",
            "updating: content/updated_model/keras_metadata.pb (deflated 89%)\n"
          ]
        },
        {
          "output_type": "display_data",
          "data": {
            "text/plain": [
              "<IPython.core.display.Javascript object>"
            ],
            "application/javascript": [
              "\n",
              "    async function download(id, filename, size) {\n",
              "      if (!google.colab.kernel.accessAllowed) {\n",
              "        return;\n",
              "      }\n",
              "      const div = document.createElement('div');\n",
              "      const label = document.createElement('label');\n",
              "      label.textContent = `Downloading \"${filename}\": `;\n",
              "      div.appendChild(label);\n",
              "      const progress = document.createElement('progress');\n",
              "      progress.max = size;\n",
              "      div.appendChild(progress);\n",
              "      document.body.appendChild(div);\n",
              "\n",
              "      const buffers = [];\n",
              "      let downloaded = 0;\n",
              "\n",
              "      const channel = await google.colab.kernel.comms.open(id);\n",
              "      // Send a message to notify the kernel that we're ready.\n",
              "      channel.send({})\n",
              "\n",
              "      for await (const message of channel.messages) {\n",
              "        // Send a message to notify the kernel that we're ready.\n",
              "        channel.send({})\n",
              "        if (message.buffers) {\n",
              "          for (const buffer of message.buffers) {\n",
              "            buffers.push(buffer);\n",
              "            downloaded += buffer.byteLength;\n",
              "            progress.value = downloaded;\n",
              "          }\n",
              "        }\n",
              "      }\n",
              "      const blob = new Blob(buffers, {type: 'application/binary'});\n",
              "      const a = document.createElement('a');\n",
              "      a.href = window.URL.createObjectURL(blob);\n",
              "      a.download = filename;\n",
              "      div.appendChild(a);\n",
              "      a.click();\n",
              "      div.remove();\n",
              "    }\n",
              "  "
            ]
          },
          "metadata": {}
        },
        {
          "output_type": "display_data",
          "data": {
            "text/plain": [
              "<IPython.core.display.Javascript object>"
            ],
            "application/javascript": [
              "download(\"download_6e44adaf-54a1-4f6b-aa3e-8c828d31ecdf\", \"updated_model.zip\", 20976)"
            ]
          },
          "metadata": {}
        }
      ]
    },
    {
      "cell_type": "code",
      "source": [
        "# plot the new model with the additional deserliazation and reserialization steps\n",
        "tf.keras.utils.plot_model(updated_model)"
      ],
      "metadata": {
        "colab": {
          "base_uri": "https://localhost:8080/",
          "height": 369
        },
        "id": "NrFJeA9m7ONm",
        "outputId": "20d4e2eb-dac3-4b8c-d67d-6fb28eac1297"
      },
      "execution_count": null,
      "outputs": [
        {
          "output_type": "execute_result",
          "data": {
            "text/plain": [
              "<IPython.core.display.Image object>"
            ],
            "image/png": "[encoded data removed]"
          },
          "metadata": {},
          "execution_count": 66
        }
      ]
    },
    {
      "cell_type": "markdown",
      "source": [
        "##Notes for the EE team: \n",
        "\n",
        "- I have deployed this model on AI platform, with a custom Tensorflow serving Docker container (I can share if helpful). When sending over predictions the error is: `Tile error: Returned tensor could not be symmetrically cropped to expected size: [1, 1], got: [53792, 1]` . See here for how the data is prepared: https://code.earthengine.google.com/a8bd982c0c1376e861ea403837c0b8cd. It won't work for anybody else, but at least potential issues can be identified. So basically it appears to correctly make predictions but I think the issue is with the shape of the tensor sent back.\n"
      ],
      "metadata": {
        "id": "McoTD85Czry4"
      }
    }
  ]
}